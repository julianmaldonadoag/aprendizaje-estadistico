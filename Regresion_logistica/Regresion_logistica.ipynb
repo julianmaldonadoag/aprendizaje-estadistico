{
  "nbformat": 4,
  "nbformat_minor": 0,
  "metadata": {
    "colab": {
      "name": "Regresion_logistica.ipynb",
      "provenance": [],
      "collapsed_sections": [],
      "toc_visible": true
    },
    "kernelspec": {
      "name": "ir",
      "display_name": "R"
    },
    "language_info": {
      "name": "R"
    }
  },
  "cells": [
    {
      "cell_type": "markdown",
      "metadata": {
        "id": "6yfaU42MY8fD"
      },
      "source": [
        "## Carga de datos"
      ]
    },
    {
      "cell_type": "code",
      "metadata": {
        "colab": {
          "base_uri": "https://localhost:8080/"
        },
        "id": "1UWIa17vVxPP",
        "outputId": "872cc04b-f816-4420-a441-e9178eb5ca7b"
      },
      "source": [
        "train <- read.csv(\"advertising_train.csv\" )\n",
        "str(train)"
      ],
      "execution_count": 1,
      "outputs": [
        {
          "output_type": "stream",
          "name": "stdout",
          "text": [
            "'data.frame':\t700 obs. of  11 variables:\n",
            " $ X                       : int  714 503 358 624 985 718 919 470 966 516 ...\n",
            " $ Daily.Time.Spent.on.Site: num  49.4 66.2 49.8 88 66.5 ...\n",
            " $ Age                     : int  53 26 39 35 31 29 32 25 50 37 ...\n",
            " $ Area.Income             : num  45465 63580 45800 48919 58038 ...\n",
            " $ Daily.Internet.Usage    : num  128 229 112 149 256 ...\n",
            " $ Ad.Topic.Line           : chr  \"Ameliorated well-modulated complexity\" \"Business-focused maximized complexity\" \"Reduced multimedia project\" \"Secured secondary superstructure\" ...\n",
            " $ City                    : chr  \"Jacquelineshire\" \"North Anaport\" \"Hannaport\" \"Port Brianfort\" ...\n",
            " $ Male                    : int  1 0 0 1 1 0 1 1 0 1 ...\n",
            " $ Country                 : chr  \"Congo\" \"Mexico\" \"Samoa\" \"France\" ...\n",
            " $ Timestamp               : chr  \"2016-07-07 18:07:19\" \"2016-05-02 00:01:56\" \"2016-02-09 07:21:25\" \"2016-03-24 05:38:01\" ...\n",
            " $ Clicked.on.Ad           : int  1 0 1 0 0 0 0 0 1 1 ...\n"
          ]
        }
      ]
    },
    {
      "cell_type": "code",
      "metadata": {
        "colab": {
          "base_uri": "https://localhost:8080/",
          "height": 34
        },
        "id": "Y0IhgQdvr7_M",
        "outputId": "0befb31e-02fe-44db-ef71-df976776f08d"
      },
      "source": [
        "train$Male_f <- factor(train$Male, levels=c(\"0\",\"1\"))\n",
        "summary(train$Male_f)"
      ],
      "execution_count": 2,
      "outputs": [
        {
          "output_type": "display_data",
          "data": {
            "text/plain": [
              "  0   1 \n",
              "360 340 "
            ],
            "text/latex": "\\begin{description*}\n\\item[0] 360\n\\item[1] 340\n\\end{description*}\n",
            "text/markdown": "0\n:   3601\n:   340\n\n",
            "text/html": [
              "<style>\n",
              ".dl-inline {width: auto; margin:0; padding: 0}\n",
              ".dl-inline>dt, .dl-inline>dd {float: none; width: auto; display: inline-block}\n",
              ".dl-inline>dt::after {content: \":\\0020\"; padding-right: .5ex}\n",
              ".dl-inline>dt:not(:first-of-type) {padding-left: .5ex}\n",
              "</style><dl class=dl-inline><dt>0</dt><dd>360</dd><dt>1</dt><dd>340</dd></dl>\n"
            ]
          },
          "metadata": {}
        }
      ]
    },
    {
      "cell_type": "code",
      "metadata": {
        "colab": {
          "base_uri": "https://localhost:8080/"
        },
        "id": "a0AfGJ2kqcP2",
        "outputId": "02f0e22c-7e2e-4879-aa0f-75974b7f8b59"
      },
      "source": [
        "test <- read.csv(\"advertising_test.csv\" )\n",
        "str(test)"
      ],
      "execution_count": 3,
      "outputs": [
        {
          "output_type": "stream",
          "name": "stdout",
          "text": [
            "'data.frame':\t300 obs. of  11 variables:\n",
            " $ X                       : int  3 5 8 17 20 22 25 29 33 35 ...\n",
            " $ Daily.Time.Spent.on.Site: num  69.5 68.4 66 55.4 74.6 ...\n",
            " $ Age                     : int  26 35 48 37 40 35 41 34 57 57 ...\n",
            " $ Area.Income             : num  59786 73890 24593 23937 23822 ...\n",
            " $ Daily.Internet.Usage    : num  236 226 132 129 136 ...\n",
            " $ Ad.Topic.Line           : chr  \"Organic bottom-line service-desk\" \"Robust logistical utilization\" \"Reactive local challenge\" \"Customizable multi-tasking website\" ...\n",
            " $ City                    : chr  \"Davidton\" \"South Manuel\" \"Port Jefferybury\" \"West Dylanberg\" ...\n",
            " $ Male                    : int  0 0 1 0 1 1 0 0 1 1 ...\n",
            " $ Country                 : chr  \"San Marino\" \"Iceland\" \"Australia\" \"Palestinian Territory\" ...\n",
            " $ Timestamp               : chr  \"2016-03-13 20:35:42\" \"2016-06-03 03:36:18\" \"2016-03-07 01:40:15\" \"2016-01-30 19:20:41\" ...\n",
            " $ Clicked.on.Ad           : int  0 0 1 1 1 0 1 1 1 1 ...\n"
          ]
        }
      ]
    },
    {
      "cell_type": "code",
      "metadata": {
        "colab": {
          "base_uri": "https://localhost:8080/",
          "height": 34
        },
        "id": "ySlu-ubjsIbt",
        "outputId": "fdbc212b-a4b3-4ad2-a408-0e030f5fae43"
      },
      "source": [
        "test$Male_f <- factor(test$Male, levels=c(\"0\",\"1\"))\n",
        "summary(test$Male_f)"
      ],
      "execution_count": 4,
      "outputs": [
        {
          "output_type": "display_data",
          "data": {
            "text/plain": [
              "  0   1 \n",
              "159 141 "
            ],
            "text/latex": "\\begin{description*}\n\\item[0] 159\n\\item[1] 141\n\\end{description*}\n",
            "text/markdown": "0\n:   1591\n:   141\n\n",
            "text/html": [
              "<style>\n",
              ".dl-inline {width: auto; margin:0; padding: 0}\n",
              ".dl-inline>dt, .dl-inline>dd {float: none; width: auto; display: inline-block}\n",
              ".dl-inline>dt::after {content: \":\\0020\"; padding-right: .5ex}\n",
              ".dl-inline>dt:not(:first-of-type) {padding-left: .5ex}\n",
              "</style><dl class=dl-inline><dt>0</dt><dd>159</dd><dt>1</dt><dd>141</dd></dl>\n"
            ]
          },
          "metadata": {}
        }
      ]
    },
    {
      "cell_type": "markdown",
      "metadata": {
        "id": "30cONOofseb7"
      },
      "source": [
        "## Modelo"
      ]
    },
    {
      "cell_type": "code",
      "metadata": {
        "colab": {
          "base_uri": "https://localhost:8080/",
          "height": 493
        },
        "id": "SBs7fOZ4skAX",
        "outputId": "d2b6b1b3-1071-4fe6-c65b-40b441200b1a"
      },
      "source": [
        "reg <- glm(Clicked.on.Ad ~ Daily.Time.Spent.on.Site + Age + Area.Income \n",
        "    + Daily.Internet.Usage + Male_f, data=train, family=\"binomial\")\n",
        "summary(reg)"
      ],
      "execution_count": 5,
      "outputs": [
        {
          "output_type": "display_data",
          "data": {
            "text/plain": [
              "\n",
              "Call:\n",
              "glm(formula = Clicked.on.Ad ~ Daily.Time.Spent.on.Site + Age + \n",
              "    Area.Income + Daily.Internet.Usage + Male_f, family = \"binomial\", \n",
              "    data = train)\n",
              "\n",
              "Deviance Residuals: \n",
              "    Min       1Q   Median       3Q      Max  \n",
              "-1.7583  -0.1264   0.0013   0.0132   3.2345  \n",
              "\n",
              "Coefficients:\n",
              "                           Estimate Std. Error z value Pr(>|z|)    \n",
              "(Intercept)               2.875e+01  3.601e+00   7.985 1.41e-15 ***\n",
              "Daily.Time.Spent.on.Site -2.192e-01  2.845e-02  -7.704 1.32e-14 ***\n",
              "Age                       1.746e-01  3.088e-02   5.655 1.56e-08 ***\n",
              "Area.Income              -1.264e-04  2.304e-05  -5.485 4.14e-08 ***\n",
              "Daily.Internet.Usage     -6.500e-02  8.456e-03  -7.687 1.50e-14 ***\n",
              "Male_f1                  -2.581e-01  5.089e-01  -0.507    0.612    \n",
              "---\n",
              "Signif. codes:  0 ‘***’ 0.001 ‘**’ 0.01 ‘*’ 0.05 ‘.’ 0.1 ‘ ’ 1\n",
              "\n",
              "(Dispersion parameter for binomial family taken to be 1)\n",
              "\n",
              "    Null deviance: 970.35  on 699  degrees of freedom\n",
              "Residual deviance: 117.65  on 694  degrees of freedom\n",
              "AIC: 129.65\n",
              "\n",
              "Number of Fisher Scoring iterations: 8\n"
            ]
          },
          "metadata": {}
        }
      ]
    },
    {
      "cell_type": "markdown",
      "metadata": {
        "id": "7IXDMDVOtdSw"
      },
      "source": [
        "## Preguntas"
      ]
    },
    {
      "cell_type": "markdown",
      "metadata": {
        "id": "W6BdlEdsthLp"
      },
      "source": [
        "### 1. ¿A mayor edad, mayor probabilidad de clicar el enlace publicitario?\n",
        "\n",
        "R: **Verdadero**, el signo del coeficiente para Age de 1.746e-01 indica que a mayor edad es mayor la  probabilidad de clicar el enlace publicitario."
      ]
    },
    {
      "cell_type": "markdown",
      "metadata": {
        "id": "eV7GghPLudfX"
      },
      "source": [
        "### 2. ¿A mayor tiempo de navegación en el sitio (Daily.Time.Spent.on.Site), mayor probabilidad de clicar el enlace publicitario?\n",
        "\n",
        "R: **Falso**, el coeficiente para el Daily.Time.Spent.on.Site es de -2.192e-01, donde el signo negativo indica que a mayor tiempo de navegación en el sitio menor probabilidad de clicar en el enlace publicitario."
      ]
    },
    {
      "cell_type": "markdown",
      "metadata": {
        "id": "kb2vGBRVvId9"
      },
      "source": [
        "### 3. ¿Considerando una significancia del 10%, todos los predictores son significativos?\n",
        "\n",
        "R: **Falso**, ya que el nivel de significancia calculado para Male_f1 es de 0.612"
      ]
    },
    {
      "cell_type": "markdown",
      "metadata": {
        "id": "lgjaSIi_vof5"
      },
      "source": [
        "### 4. La razón de momios entre hombres y mujeres es:"
      ]
    },
    {
      "cell_type": "markdown",
      "metadata": {
        "id": "V92JTWzHvy-o"
      },
      "source": [
        "\\begin{matrix}\n",
        "    \\hline\n",
        "    \\text{Sexo} & \\text{male_f1} \\\\\n",
        "    \\hline\n",
        "    \\text{Mujer} & 0\\\\    \n",
        "    \\text{Hombre} & 1 \\\\    \n",
        "    \\hline\n",
        "\\end{matrix}\n",
        "\n",
        "* $o_1 = (Daily.Time.Spent.on.Site, Age, Area.Income, Daily.Internet.Usage, 0)$\n",
        "* $o_2 = (Daily.Time.Spent.on.Site, Age, Area.Income, Daily.Internet.Usage, 1)$\n",
        "\n",
        "$\\frac{m_{male}}{m_{female}} = e^{\\text{male_f1}} = e^{-2.581e-01} = 0.77$"
      ]
    },
    {
      "cell_type": "code",
      "metadata": {
        "colab": {
          "base_uri": "https://localhost:8080/",
          "height": 34
        },
        "id": "Vhu6ue2dwLEl",
        "outputId": "3b7b3f21-58e9-44f1-ba46-a5e0962b6c00"
      },
      "source": [
        "exp(-2.581e-01)"
      ],
      "execution_count": 6,
      "outputs": [
        {
          "output_type": "display_data",
          "data": {
            "text/plain": [
              "[1] 0.772518"
            ],
            "text/latex": "0.772517976446565",
            "text/markdown": "0.772517976446565",
            "text/html": [
              "0.772517976446565"
            ]
          },
          "metadata": {}
        }
      ]
    },
    {
      "cell_type": "markdown",
      "metadata": {
        "id": "zuCoA9r5Hm4E"
      },
      "source": [
        "### 5, 6, 7 y 8. Exactitud, precisión, sensibilidad y especificidad del modelo."
      ]
    },
    {
      "cell_type": "code",
      "metadata": {
        "colab": {
          "base_uri": "https://localhost:8080/",
          "height": 34
        },
        "id": "DIfLJHlkIYGr",
        "outputId": "ca22e9b8-5454-4e2b-99df-06061b08275e"
      },
      "source": [
        "# Predicción (la regresión logística modela una probabilidad).\n",
        "p <- predict(reg, test, type=\"response\")\n",
        "p[1:5]"
      ],
      "execution_count": 7,
      "outputs": [
        {
          "output_type": "display_data",
          "data": {
            "text/plain": [
              "          1           2           3           4           5 \n",
              "0.007651013 0.015901759 0.999978232 0.999991140 0.999332299 "
            ],
            "text/latex": "\\begin{description*}\n\\item[1] 0.00765101305828382\n\\item[2] 0.0159017585462982\n\\item[3] 0.999978232478617\n\\item[4] 0.999991139839796\n\\item[5] 0.999332299223027\n\\end{description*}\n",
            "text/markdown": "1\n:   0.007651013058283822\n:   0.01590175854629823\n:   0.9999782324786174\n:   0.9999911398397965\n:   0.999332299223027\n\n",
            "text/html": [
              "<style>\n",
              ".dl-inline {width: auto; margin:0; padding: 0}\n",
              ".dl-inline>dt, .dl-inline>dd {float: none; width: auto; display: inline-block}\n",
              ".dl-inline>dt::after {content: \":\\0020\"; padding-right: .5ex}\n",
              ".dl-inline>dt:not(:first-of-type) {padding-left: .5ex}\n",
              "</style><dl class=dl-inline><dt>1</dt><dd>0.00765101305828382</dd><dt>2</dt><dd>0.0159017585462982</dd><dt>3</dt><dd>0.999978232478617</dd><dt>4</dt><dd>0.999991139839796</dd><dt>5</dt><dd>0.999332299223027</dd></dl>\n"
            ]
          },
          "metadata": {}
        }
      ]
    },
    {
      "cell_type": "code",
      "metadata": {
        "id": "nEoO_-1DIQlW"
      },
      "source": [
        "# Binarización.\n",
        "p_class <- ifelse(p > 0.5, \"S\", \"N\")"
      ],
      "execution_count": 8,
      "outputs": []
    },
    {
      "cell_type": "code",
      "metadata": {
        "colab": {
          "base_uri": "https://localhost:8080/",
          "height": 85
        },
        "id": "-UEA0h8BITo2",
        "outputId": "bb63e56e-d786-42b4-854f-ab5617f9e068"
      },
      "source": [
        "# Se compara lo predicho contra los valores reales.\n",
        "tab <- table(p_class, test$Clicked.on.Ad)\n",
        "tab"
      ],
      "execution_count": 9,
      "outputs": [
        {
          "output_type": "display_data",
          "data": {
            "text/plain": [
              "       \n",
              "p_class   0   1\n",
              "      N 147   7\n",
              "      S   6 140"
            ]
          },
          "metadata": {}
        }
      ]
    },
    {
      "cell_type": "code",
      "metadata": {
        "colab": {
          "base_uri": "https://localhost:8080/"
        },
        "id": "-ik70Jw5IMlt",
        "outputId": "928c3ceb-c19d-45c7-9aff-7b1cc00f262b"
      },
      "source": [
        "# Exactitud\n",
        "exa <- (tab[1,1] + tab[2,2])/(tab[1, 1] + tab[1,2] + tab[2,1] + tab[2,2])\n",
        "\n",
        "# Precisión\n",
        "pre <- tab[2, 2] / (tab[2, 2] + tab[2, 1])\n",
        "\n",
        "# Exhaustividad y sensibilidad\n",
        "sen <- tab[2, 2] / (tab[2, 2] + tab[1, 2])\n",
        "\n",
        "# Especificidad\n",
        "esp <- tab[1, 1] / (tab[1, 1] + tab[2, 1])\n",
        "\n",
        "print(paste0(\"Exactitud:        \", round(exa, 4), \" = \", round(exa*100, 1), \"%\"))\n",
        "print(paste0(\"Precisión:        \", round(pre, 4), \" = \", round(pre*100, 1), \"%\"))\n",
        "print(paste0(\"Sensibilidad:     \", round(sen, 4), \" = \", round(sen*100, 1), \"%\"))\n",
        "print(paste0(\"Especificidad:    \", round(esp, 4), \" = \", round(esp*100, 1), \"%\"))"
      ],
      "execution_count": 10,
      "outputs": [
        {
          "output_type": "stream",
          "name": "stdout",
          "text": [
            "[1] \"Exactitud:        0.9567 = 95.7%\"\n",
            "[1] \"Precisión:        0.9589 = 95.9%\"\n",
            "[1] \"Sensibilidad:     0.9524 = 95.2%\"\n",
            "[1] \"Especificidad:    0.9608 = 96.1%\"\n"
          ]
        }
      ]
    },
    {
      "cell_type": "code",
      "metadata": {
        "colab": {
          "base_uri": "https://localhost:8080/"
        },
        "id": "eP32wGCfJeuW",
        "outputId": "47d56173-935a-400b-9587-546189c569a9"
      },
      "source": [
        "install.packages(\"caret\")\n",
        "library(caret)"
      ],
      "execution_count": 12,
      "outputs": [
        {
          "output_type": "stream",
          "name": "stderr",
          "text": [
            "Installing package into ‘/usr/local/lib/R/site-library’\n",
            "(as ‘lib’ is unspecified)\n",
            "\n",
            "also installing the dependencies ‘listenv’, ‘parallelly’, ‘future’, ‘globals’, ‘future.apply’, ‘progressr’, ‘numDeriv’, ‘SQUAREM’, ‘lava’, ‘prodlim’, ‘proxy’, ‘iterators’, ‘gower’, ‘ipred’, ‘timeDate’, ‘e1071’, ‘foreach’, ‘ModelMetrics’, ‘plyr’, ‘pROC’, ‘recipes’, ‘reshape2’\n",
            "\n",
            "\n",
            "Loading required package: ggplot2\n",
            "\n",
            "Loading required package: lattice\n",
            "\n",
            "Warning message in system(\"timedatectl\", intern = TRUE):\n",
            "“running command 'timedatectl' had status 1”\n"
          ]
        }
      ]
    },
    {
      "cell_type": "code",
      "metadata": {
        "colab": {
          "base_uri": "https://localhost:8080/",
          "height": 476
        },
        "id": "yVMnbwYtIajo",
        "outputId": "1c730b9a-d539-4e29-9c7e-3dff2df4caef"
      },
      "source": [
        "# Corroboración de las metricas obtenidas manualmente utilizando las automatizadas.\n",
        "p_class <- ifelse(p > 0.5, 1, 0)\n",
        "confusionMatrix(as.factor(p_class), as.factor(test$Clicked.on.Ad), positive = '1')"
      ],
      "execution_count": 13,
      "outputs": [
        {
          "output_type": "display_data",
          "data": {
            "text/plain": [
              "Confusion Matrix and Statistics\n",
              "\n",
              "          Reference\n",
              "Prediction   0   1\n",
              "         0 147   7\n",
              "         1   6 140\n",
              "                                         \n",
              "               Accuracy : 0.9567         \n",
              "                 95% CI : (0.927, 0.9767)\n",
              "    No Information Rate : 0.51           \n",
              "    P-Value [Acc > NIR] : <2e-16         \n",
              "                                         \n",
              "                  Kappa : 0.9133         \n",
              "                                         \n",
              " Mcnemar's Test P-Value : 1              \n",
              "                                         \n",
              "            Sensitivity : 0.9524         \n",
              "            Specificity : 0.9608         \n",
              "         Pos Pred Value : 0.9589         \n",
              "         Neg Pred Value : 0.9545         \n",
              "             Prevalence : 0.4900         \n",
              "         Detection Rate : 0.4667         \n",
              "   Detection Prevalence : 0.4867         \n",
              "      Balanced Accuracy : 0.9566         \n",
              "                                         \n",
              "       'Positive' Class : 1              \n",
              "                                         "
            ]
          },
          "metadata": {}
        }
      ]
    }
  ]
}